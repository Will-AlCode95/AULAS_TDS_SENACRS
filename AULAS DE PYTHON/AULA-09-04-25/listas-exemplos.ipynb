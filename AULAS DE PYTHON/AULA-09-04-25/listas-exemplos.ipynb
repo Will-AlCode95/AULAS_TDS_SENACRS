{
 "cells": [
  {
   "cell_type": "markdown",
   "metadata": {},
   "source": [
    "### Exemplos de lista\n",
    "\n",
    "LIVRARIA\n"
   ]
  },
  {
   "cell_type": "code",
   "execution_count": 4,
   "metadata": {},
   "outputs": [],
   "source": [
    "livros = [\n",
    "    \"Dom Casmurro - Machado de Assis\",\n",
    "    \"Grande Sertão: Veredas - João Guimarães Rosa\",\n",
    "    \"Memórias Póstumas de Brás Cubas - Machado de Assis\",\n",
    "    \"Vidas Secas - Graciliano Ramos\",\n",
    "    \"O Cortiço - Aluísio Azevedo\",\n",
    "    \"Capitães da Areia - Jorge Amado\",\n",
    "    \"A Hora da Estrela - Clarice Lispector\",\n",
    "    \"Os Sertões - Euclides da Cunha\",\n",
    "    \"O Tempo e o Vento - Erico Verissimo\",\n",
    "    \"Quincas Borba - Machado de Assis\",\n",
    "    \"Macunaíma - Mário de Andrade\",\n",
    "    \"Senhora - José de Alencar\",\n",
    "    \"Iracema - José de Alencar\",\n",
    "    \"Mayombe - Pepetela (embora seja angolano, é muito estudado no Brasil)\",\n",
    "    \"Auto da Compadecida - Ariano Suassuna\"\n",
    "]\n"
   ]
  },
  {
   "cell_type": "code",
   "execution_count": 5,
   "metadata": {},
   "outputs": [
    {
     "name": "stdout",
     "output_type": "stream",
     "text": [
      "['o gaucho', 'Auto da Compadecida - Ariano Suassuna', 'Mayombe - Pepetela (embora seja angolano, é muito estudado no Brasil)', 'Iracema - José de Alencar', 'Senhora - José de Alencar', 'Macunaíma - Mário de Andrade', 'Quincas Borba - Machado de Assis', 'O Tempo e o Vento - Erico Verissimo', 'Os Sertões - Euclides da Cunha', 'A Hora da Estrela - Clarice Lispector', 'Capitães da Areia - Jorge Amado', 'O Cortiço - Aluísio Azevedo', 'Vidas Secas - Graciliano Ramos', 'Memórias Póstumas de Brás Cubas - Machado de Assis', 'Grande Sertão: Veredas - João Guimarães Rosa', 'Dom Casmurro - Machado de Assis']\n"
     ]
    }
   ],
   "source": [
    "livro_novo = input(\"Digite o nome do livro: \")\n",
    "livros.append(livro_novo)\n",
    "\n",
    "print(list(reversed(livros)))"
   ]
  },
  {
   "cell_type": "code",
   "execution_count": 7,
   "metadata": {},
   "outputs": [],
   "source": [
    "livros.remove(\"livro_novo\")"
   ]
  },
  {
   "cell_type": "code",
   "execution_count": 6,
   "metadata": {},
   "outputs": [
    {
     "name": "stdout",
     "output_type": "stream",
     "text": [
      "['o gaucho macho', 'o gaucho', 'Auto da Compadecida - Ariano Suassuna', 'Mayombe - Pepetela (embora seja angolano, é muito estudado no Brasil)', 'Iracema - José de Alencar', 'Senhora - José de Alencar', 'Macunaíma - Mário de Andrade', 'Quincas Borba - Machado de Assis', 'O Tempo e o Vento - Erico Verissimo', 'Os Sertões - Euclides da Cunha', 'A Hora da Estrela - Clarice Lispector', 'Capitães da Areia - Jorge Amado', 'O Cortiço - Aluísio Azevedo', 'Vidas Secas - Graciliano Ramos', 'Memórias Póstumas de Brás Cubas - Machado de Assis', 'Grande Sertão: Veredas - João Guimarães Rosa', 'Dom Casmurro - Machado de Assis']\n",
      "livro ja cadastrado\n"
     ]
    }
   ],
   "source": [
    "livro_novo = input(\"Digite o nome do livro: \")\n",
    "livros.append(livro_novo)\n",
    "\n",
    "print(list(reversed(livros)))\n",
    "\n",
    "if livro_novo not in livros:\n",
    "    livros.append(livro_novo)\n",
    "\n",
    "else:\n",
    "     print(\"livro ja cadastrado\")\n"
   ]
  },
  {
   "cell_type": "code",
   "execution_count": 13,
   "metadata": {},
   "outputs": [
    {
     "name": "stdout",
     "output_type": "stream",
     "text": [
      "livro não encontrado\n"
     ]
    }
   ],
   "source": [
    "livro_pesquisado = input(\"digite o titulo do livro procurado: \").upper()\n",
    "if livro_pesquisado in livros:\n",
    "  print(\"livro encontrado\", livro_pesquisado)\n",
    "\n",
    "else:\n",
    "  print(\"livro não encontrado\")"
   ]
  },
  {
   "cell_type": "code",
   "execution_count": 12,
   "metadata": {},
   "outputs": [
    {
     "name": "stdout",
     "output_type": "stream",
     "text": [
      "[<built-in method upper of str object at 0x0000022E5D5245B0>, <built-in method upper of str object at 0x0000022E5CEF3A20>, 'o trabalhador', 'o jio', 'o tio', 'Auto da Compadecida - Ariano Suassuna', 'Mayombe - Pepetela (embora seja angolano, é muito estudado no Brasil)', 'Iracema - José de Alencar', 'Senhora - José de Alencar', 'Macunaíma - Mário de Andrade', 'Quincas Borba - Machado de Assis', 'O Tempo e o Vento - Erico Verissimo', 'Os Sertões - Euclides da Cunha', 'A Hora da Estrela - Clarice Lispector', 'Capitães da Areia - Jorge Amado', 'O Cortiço - Aluísio Azevedo', 'Vidas Secas - Graciliano Ramos', 'Memórias Póstumas de Brás Cubas - Machado de Assis', 'Grande Sertão: Veredas - João Guimarães Rosa', 'Dom Casmurro - Machado de Assis']\n"
     ]
    }
   ],
   "source": [
    "livro_novo = input(\"Digite o nome do livro: \")\n",
    "livros.append(livro_novo.upper)\n",
    "\n",
    "print(list(reversed(livros)))"
   ]
  },
  {
   "cell_type": "code",
   "execution_count": 15,
   "metadata": {},
   "outputs": [
    {
     "data": {
      "text/plain": [
       "'DOM CASMURRO - MACHADO DE ASSIS'"
      ]
     },
     "execution_count": 15,
     "metadata": {},
     "output_type": "execute_result"
    }
   ],
   "source": [
    "\"Dom Casmurro - Machado de Assis\".upper()"
   ]
  },
  {
   "cell_type": "code",
   "execution_count": 19,
   "metadata": {},
   "outputs": [
    {
     "name": "stdout",
     "output_type": "stream",
     "text": [
      "livro não encontrado.\n"
     ]
    }
   ],
   "source": [
    "livro_pesquisado = input(\"digite o titulo do livro para excluir: \")\n",
    "if livro_pesquisado in livros:\n",
    "   livros.remove(livro_pesquisado)\n",
    "   print(\"livro excluido.\")\n",
    "\n",
    "else:\n",
    "   print(\"livro não encontrado.\")\n"
   ]
  },
  {
   "cell_type": "code",
   "execution_count": null,
   "metadata": {},
   "outputs": [],
   "source": [
    "valor_a_modificar = input (\"digite o titulo do livro a modificar\")\n",
    "novo_valor = input (\"digite o novo titulo: \")\n",
    "\n",
    "i = livros.index(valor_a_modificar)\n",
    "livros[i] = novo_valor\n"
   ]
  },
  {
   "cell_type": "code",
   "execution_count": 8,
   "metadata": {},
   "outputs": [],
   "source": [
    "i = livros.index(\"Mayombe - Pepetela (embora seja angolano, é muito estudado no Brasil)\")\n",
    "livros[i] = \"o guaxinim\""
   ]
  },
  {
   "cell_type": "code",
   "execution_count": 10,
   "metadata": {},
   "outputs": [
    {
     "name": "stdout",
     "output_type": "stream",
     "text": [
      "['o gaucho macho', 'o gaucho', 'Auto da Compadecida - Ariano Suassuna', 'o guaxinim', 'Iracema - José de Alencar', 'Senhora - José de Alencar', 'Macunaíma - Mário de Andrade', 'Quincas Borba - Machado de Assis', 'O Tempo e o Vento - Erico Verissimo', 'Os Sertões - Euclides da Cunha', 'A Hora da Estrela - Clarice Lispector', 'Capitães da Areia - Jorge Amado', 'O Cortiço - Aluísio Azevedo', 'Vidas Secas - Graciliano Ramos', 'Memórias Póstumas de Brás Cubas - Machado de Assis', 'Grande Sertão: Veredas - João Guimarães Rosa', 'Dom Casmurro - Machado de Assis']\n"
     ]
    }
   ],
   "source": [
    "print(list(reversed(livros)))"
   ]
  },
  {
   "cell_type": "code",
   "execution_count": 11,
   "metadata": {},
   "outputs": [
    {
     "name": "stdout",
     "output_type": "stream",
     "text": [
      "['Dom Casmurro - Machado de Assis', 'Grande Sertão: Veredas - João Guimarães Rosa', 'Memórias Póstumas de Brás Cubas - Machado de Assis', 'Vidas Secas - Graciliano Ramos', 'O Cortiço - Aluísio Azevedo', 'Capitães da Areia - Jorge Amado', 'A Hora da Estrela - Clarice Lispector', 'Os Sertões - Euclides da Cunha', 'O Tempo e o Vento - Erico Verissimo', 'Quincas Borba - Machado de Assis', 'Macunaíma - Mário de Andrade', 'Senhora - José de Alencar', 'Iracema - José de Alencar', 'o guaxinim', 'Auto da Compadecida - Ariano Suassuna', 'o gaucho', 'o gaucho macho']\n"
     ]
    }
   ],
   "source": [
    "print(list(livros))"
   ]
  },
  {
   "cell_type": "code",
   "execution_count": null,
   "metadata": {},
   "outputs": [],
   "source": []
  }
 ],
 "metadata": {
  "kernelspec": {
   "display_name": "Python 3",
   "language": "python",
   "name": "python3"
  },
  "language_info": {
   "codemirror_mode": {
    "name": "ipython",
    "version": 3
   },
   "file_extension": ".py",
   "mimetype": "text/x-python",
   "name": "python",
   "nbconvert_exporter": "python",
   "pygments_lexer": "ipython3",
   "version": "3.13.2"
  }
 },
 "nbformat": 4,
 "nbformat_minor": 2
}
