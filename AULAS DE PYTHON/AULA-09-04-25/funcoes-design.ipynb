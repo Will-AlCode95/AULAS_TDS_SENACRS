{
 "cells": [
  {
   "cell_type": "code",
   "execution_count": 4,
   "metadata": {},
   "outputs": [],
   "source": [
    "livros = [\n",
    "    \"Dom Casmurro - Machado de Assis\",\n",
    "    \"Grande Sertão: Veredas - João Guimarães Rosa\",\n",
    "    \"Memórias Póstumas de Brás Cubas - Machado de Assis\",\n",
    "    \"Vidas Secas - Graciliano Ramos\",\n",
    "    \"O Cortiço - Aluísio Azevedo\",\n",
    "    \"Capitães da Areia - Jorge Amado\",\n",
    "    \"A Hora da Estrela - Clarice Lispector\",\n",
    "    \"Os Sertões - Euclides da Cunha\",\n",
    "    \"O Tempo e o Vento - Erico Verissimo\",\n",
    "    \"Quincas Borba - Machado de Assis\",\n",
    "    \"Macunaíma - Mário de Andrade\",\n",
    "    \"Senhora - José de Alencar\",\n",
    "    \"Iracema - José de Alencar\",\n",
    "    \"Mayombe - Pepetela (embora seja angolano, é muito estudado no Brasil)\",\n",
    "    \"Auto da Compadecida - Ariano Suassuna\"\n",
    "]\n"
   ]
  },
  {
   "cell_type": "code",
   "execution_count": 11,
   "metadata": {},
   "outputs": [],
   "source": [
    "def cadastrar_livro(livro):\n",
    "  livro_novo = livro.upper()\n",
    "  if livro_novo not in livros:\n",
    "    livros.append(livro_novo)\n",
    "    return True \n",
    "  else:\n",
    "    return False"
   ]
  },
  {
   "cell_type": "code",
   "execution_count": 12,
   "metadata": {},
   "outputs": [
    {
     "name": "stdout",
     "output_type": "stream",
     "text": [
      "livro já cadastrado\n",
      "['O GAUXINIM', 'HGHJG', 'Auto da Compadecida - Ariano Suassuna', 'Mayombe - Pepetela (embora seja angolano, é muito estudado no Brasil)', 'Iracema - José de Alencar', 'Senhora - José de Alencar', 'Macunaíma - Mário de Andrade', 'Quincas Borba - Machado de Assis', 'O Tempo e o Vento - Erico Verissimo', 'Os Sertões - Euclides da Cunha', 'A Hora da Estrela - Clarice Lispector', 'Capitães da Areia - Jorge Amado', 'O Cortiço - Aluísio Azevedo', 'Vidas Secas - Graciliano Ramos', 'Memórias Póstumas de Brás Cubas - Machado de Assis', 'Grande Sertão: Veredas - João Guimarães Rosa', 'Dom Casmurro - Machado de Assis']\n"
     ]
    }
   ],
   "source": [
    "livro_novo = input(\"digite o nome do livro: \")\n",
    "\n",
    "cadastrar_livro(livro_novo)\n",
    "\n",
    "cadastrou = cadastrar_livro(livro_novo)\n",
    "\n",
    "if cadastrou:\n",
    "  print(\"livro já cadastrado\")\n",
    "else:\n",
    "  print(\"livro já cadastrado\")\n",
    "  \n",
    "  print(list(reversed(livros)))"
   ]
  }
 ],
 "metadata": {
  "kernelspec": {
   "display_name": "Python 3",
   "language": "python",
   "name": "python3"
  },
  "language_info": {
   "codemirror_mode": {
    "name": "ipython",
    "version": 3
   },
   "file_extension": ".py",
   "mimetype": "text/x-python",
   "name": "python",
   "nbconvert_exporter": "python",
   "pygments_lexer": "ipython3",
   "version": "3.13.2"
  }
 },
 "nbformat": 4,
 "nbformat_minor": 2
}
